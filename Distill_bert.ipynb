{
 "cells": [
  {
   "cell_type": "code",
   "execution_count": 2,
   "metadata": {},
   "outputs": [
    {
     "name": "stdout",
     "output_type": "stream",
     "text": [
      "Requirement already satisfied: transformers in /usr/local/lib/python3.6/dist-packages (2.3.0)\n",
      "Requirement already satisfied: sacremoses in /usr/local/lib/python3.6/dist-packages (from transformers) (0.0.38)\n",
      "Requirement already satisfied: tqdm in /usr/local/lib/python3.6/dist-packages (from transformers) (4.41.1)\n",
      "Requirement already satisfied: numpy in /usr/local/lib/python3.6/dist-packages (from transformers) (1.17.0)\n",
      "Requirement already satisfied: requests in /usr/local/lib/python3.6/dist-packages (from transformers) (2.22.0)\n",
      "Requirement already satisfied: sentencepiece in /usr/local/lib/python3.6/dist-packages (from transformers) (0.1.85)\n",
      "Requirement already satisfied: regex!=2019.12.17 in /usr/local/lib/python3.6/dist-packages (from transformers) (2020.1.8)\n",
      "Requirement already satisfied: boto3 in /usr/local/lib/python3.6/dist-packages (from transformers) (1.11.7)\n",
      "Requirement already satisfied: six in /usr/local/lib/python3.6/dist-packages (from sacremoses->transformers) (1.12.0)\n",
      "Requirement already satisfied: click in /usr/local/lib/python3.6/dist-packages (from sacremoses->transformers) (7.0)\n",
      "Requirement already satisfied: joblib in /usr/local/lib/python3.6/dist-packages (from sacremoses->transformers) (0.13.2)\n",
      "Requirement already satisfied: idna<2.9,>=2.5 in /usr/local/lib/python3.6/dist-packages (from requests->transformers) (2.8)\n",
      "Requirement already satisfied: certifi>=2017.4.17 in /usr/local/lib/python3.6/dist-packages (from requests->transformers) (2019.11.28)\n",
      "Requirement already satisfied: urllib3!=1.25.0,!=1.25.1,<1.26,>=1.21.1 in /usr/local/lib/python3.6/dist-packages (from requests->transformers) (1.25.8)\n",
      "Requirement already satisfied: chardet<3.1.0,>=3.0.2 in /usr/local/lib/python3.6/dist-packages (from requests->transformers) (3.0.4)\n",
      "Requirement already satisfied: jmespath<1.0.0,>=0.7.1 in /usr/local/lib/python3.6/dist-packages (from boto3->transformers) (0.9.4)\n",
      "Requirement already satisfied: s3transfer<0.4.0,>=0.3.0 in /usr/local/lib/python3.6/dist-packages (from boto3->transformers) (0.3.1)\n",
      "Requirement already satisfied: botocore<1.15.0,>=1.14.7 in /usr/local/lib/python3.6/dist-packages (from boto3->transformers) (1.14.7)\n",
      "Requirement already satisfied: python-dateutil<3.0.0,>=2.1 in /usr/local/lib/python3.6/dist-packages (from botocore<1.15.0,>=1.14.7->boto3->transformers) (2.8.0)\n",
      "Requirement already satisfied: docutils<0.16,>=0.10 in /usr/local/lib/python3.6/dist-packages (from botocore<1.15.0,>=1.14.7->boto3->transformers) (0.15.2)\n",
      "\u001b[33mWARNING: You are using pip version 19.2.1, however version 20.0.2 is available.\n",
      "You should consider upgrading via the 'pip install --upgrade pip' command.\u001b[0m\n"
     ]
    }
   ],
   "source": [
    "!pip install transformers"
   ]
  },
  {
   "cell_type": "code",
   "execution_count": 3,
   "metadata": {},
   "outputs": [],
   "source": [
    "import re\n",
    "import numpy as np\n",
    "import pandas as pd\n",
    "from sklearn.model_selection import train_test_split\n",
    "from sklearn.linear_model import LogisticRegression\n",
    "from sklearn.model_selection import GridSearchCV\n",
    "from sklearn.model_selection import cross_val_score\n",
    "import torch\n",
    "import transformers as ppb\n",
    "import warnings\n",
    "import string\n",
    "from torch.utils.data import TensorDataset, DataLoader, RandomSampler, SequentialSampler\n",
    "warnings.filterwarnings('ignore')\n",
    "\n"
   ]
  },
  {
   "cell_type": "code",
   "execution_count": 4,
   "metadata": {},
   "outputs": [],
   "source": [
    "train=pd.read_csv(\"./train.csv\")"
   ]
  },
  {
   "cell_type": "code",
   "execution_count": 5,
   "metadata": {},
   "outputs": [],
   "source": [
    "test=pd.read_csv('./test.csv')\n",
    "submission=pd.read_csv('sample_submission.csv')"
   ]
  },
  {
   "cell_type": "code",
   "execution_count": 6,
   "metadata": {},
   "outputs": [
    {
     "data": {
      "text/html": [
       "<div>\n",
       "<style scoped>\n",
       "    .dataframe tbody tr th:only-of-type {\n",
       "        vertical-align: middle;\n",
       "    }\n",
       "\n",
       "    .dataframe tbody tr th {\n",
       "        vertical-align: top;\n",
       "    }\n",
       "\n",
       "    .dataframe thead th {\n",
       "        text-align: right;\n",
       "    }\n",
       "</style>\n",
       "<table border=\"1\" class=\"dataframe\">\n",
       "  <thead>\n",
       "    <tr style=\"text-align: right;\">\n",
       "      <th></th>\n",
       "      <th>id</th>\n",
       "      <th>keyword</th>\n",
       "      <th>location</th>\n",
       "      <th>text</th>\n",
       "      <th>target</th>\n",
       "    </tr>\n",
       "  </thead>\n",
       "  <tbody>\n",
       "    <tr>\n",
       "      <th>0</th>\n",
       "      <td>1</td>\n",
       "      <td>NaN</td>\n",
       "      <td>NaN</td>\n",
       "      <td>Our Deeds are the Reason of this #earthquake M...</td>\n",
       "      <td>1</td>\n",
       "    </tr>\n",
       "    <tr>\n",
       "      <th>1</th>\n",
       "      <td>4</td>\n",
       "      <td>NaN</td>\n",
       "      <td>NaN</td>\n",
       "      <td>Forest fire near La Ronge Sask. Canada</td>\n",
       "      <td>1</td>\n",
       "    </tr>\n",
       "    <tr>\n",
       "      <th>2</th>\n",
       "      <td>5</td>\n",
       "      <td>NaN</td>\n",
       "      <td>NaN</td>\n",
       "      <td>All residents asked to 'shelter in place' are ...</td>\n",
       "      <td>1</td>\n",
       "    </tr>\n",
       "    <tr>\n",
       "      <th>3</th>\n",
       "      <td>6</td>\n",
       "      <td>NaN</td>\n",
       "      <td>NaN</td>\n",
       "      <td>13,000 people receive #wildfires evacuation or...</td>\n",
       "      <td>1</td>\n",
       "    </tr>\n",
       "    <tr>\n",
       "      <th>4</th>\n",
       "      <td>7</td>\n",
       "      <td>NaN</td>\n",
       "      <td>NaN</td>\n",
       "      <td>Just got sent this photo from Ruby #Alaska as ...</td>\n",
       "      <td>1</td>\n",
       "    </tr>\n",
       "  </tbody>\n",
       "</table>\n",
       "</div>"
      ],
      "text/plain": [
       "   id keyword location                                               text  \\\n",
       "0   1     NaN      NaN  Our Deeds are the Reason of this #earthquake M...   \n",
       "1   4     NaN      NaN             Forest fire near La Ronge Sask. Canada   \n",
       "2   5     NaN      NaN  All residents asked to 'shelter in place' are ...   \n",
       "3   6     NaN      NaN  13,000 people receive #wildfires evacuation or...   \n",
       "4   7     NaN      NaN  Just got sent this photo from Ruby #Alaska as ...   \n",
       "\n",
       "   target  \n",
       "0       1  \n",
       "1       1  \n",
       "2       1  \n",
       "3       1  \n",
       "4       1  "
      ]
     },
     "execution_count": 6,
     "metadata": {},
     "output_type": "execute_result"
    }
   ],
   "source": [
    "train.head(5)"
   ]
  },
  {
   "cell_type": "code",
   "execution_count": 7,
   "metadata": {},
   "outputs": [],
   "source": [
    "Distillbert_model, DistillBert_tokenizer, pretrained_weights = (ppb.DistilBertModel, ppb.DistilBertTokenizer, 'distilbert-base-uncased')"
   ]
  },
  {
   "cell_type": "code",
   "execution_count": 8,
   "metadata": {},
   "outputs": [],
   "source": [
    "tokenizer=DistillBert_tokenizer.from_pretrained(pretrained_weights)"
   ]
  },
  {
   "cell_type": "code",
   "execution_count": 9,
   "metadata": {},
   "outputs": [],
   "source": [
    "model = Distillbert_model.from_pretrained(pretrained_weights)"
   ]
  },
  {
   "cell_type": "code",
   "execution_count": 10,
   "metadata": {},
   "outputs": [
    {
     "data": {
      "text/plain": [
       "0       Our Deeds are the Reason of this #earthquake M...\n",
       "1                  Forest fire near La Ronge Sask. Canada\n",
       "2       All residents asked to 'shelter in place' are ...\n",
       "3       13,000 people receive #wildfires evacuation or...\n",
       "4       Just got sent this photo from Ruby #Alaska as ...\n",
       "                              ...                        \n",
       "7608    Two giant cranes holding a bridge collapse int...\n",
       "7609    @aria_ahrary @TheTawniest The out of control w...\n",
       "7610    M1.94 [01:04 UTC]?5km S of Volcano Hawaii. htt...\n",
       "7611    Police investigating after an e-bike collided ...\n",
       "7612    The Latest: More Homes Razed by Northern Calif...\n",
       "Name: text, Length: 7613, dtype: object"
      ]
     },
     "execution_count": 10,
     "metadata": {},
     "output_type": "execute_result"
    }
   ],
   "source": [
    "train['text']"
   ]
  },
  {
   "cell_type": "code",
   "execution_count": 10,
   "metadata": {},
   "outputs": [],
   "source": [
    "def remove_URL(text):\n",
    "    url = re.compile(r'https?://\\S+|www\\.\\S+')\n",
    "    return url.sub(r'',text)\n",
    "\n",
    "train['text']=train['text'].apply(lambda x : remove_URL(x))\n",
    "test['text']=test['text'].apply(lambda x : remove_URL(x))"
   ]
  },
  {
   "cell_type": "code",
   "execution_count": 11,
   "metadata": {},
   "outputs": [],
   "source": [
    "def remove_html(text):\n",
    "    html=re.compile(r'<.*?>')\n",
    "    return html.sub(r'',text)\n",
    "\n",
    "train['text']=train['text'].apply(lambda x : remove_html(x))\n",
    "test['text']=test['text'].apply(lambda x : remove_html(x))"
   ]
  },
  {
   "cell_type": "code",
   "execution_count": 12,
   "metadata": {},
   "outputs": [],
   "source": [
    "def remove_emoji(text):\n",
    "    emoji_pattern = re.compile(\"[\"\n",
    "                           u\"\\U0001F600-\\U0001F64F\"  # emoticons\n",
    "                           u\"\\U0001F300-\\U0001F5FF\"  # symbols & pictographs\n",
    "                           u\"\\U0001F680-\\U0001F6FF\"  # transport & map symbols\n",
    "                           u\"\\U0001F1E0-\\U0001F1FF\"  # flags (iOS)\n",
    "                           u\"\\U00002702-\\U000027B0\"\n",
    "                           u\"\\U000024C2-\\U0001F251\"\n",
    "                           \"]+\", flags=re.UNICODE)\n",
    "    return emoji_pattern.sub(r'', text)\n",
    "\n",
    "train['text']=train['text'].apply(lambda x : remove_emoji(x))\n",
    "test['text']=test['text'].apply(lambda x : remove_emoji(x))"
   ]
  },
  {
   "cell_type": "code",
   "execution_count": 15,
   "metadata": {},
   "outputs": [],
   "source": [
    "def remove_punct(text):\n",
    "    table=str.maketrans('','',string.punctuation)\n",
    "    return text.translate(table)\n",
    "\n",
    "train['text']=train['text'].apply(lambda x : remove_punct(x))\n",
    "test['text']=test['text'].apply(lambda x : remove_punct(x))"
   ]
  },
  {
   "cell_type": "code",
   "execution_count": 11,
   "metadata": {},
   "outputs": [],
   "source": [
    "tokenized_train_tweet=train['text'].apply((lambda x : tokenizer.encode(x, add_special_tokens=True)))"
   ]
  },
  {
   "cell_type": "code",
   "execution_count": 12,
   "metadata": {},
   "outputs": [
    {
     "data": {
      "text/html": [
       "<div>\n",
       "<style scoped>\n",
       "    .dataframe tbody tr th:only-of-type {\n",
       "        vertical-align: middle;\n",
       "    }\n",
       "\n",
       "    .dataframe tbody tr th {\n",
       "        vertical-align: top;\n",
       "    }\n",
       "\n",
       "    .dataframe thead th {\n",
       "        text-align: right;\n",
       "    }\n",
       "</style>\n",
       "<table border=\"1\" class=\"dataframe\">\n",
       "  <thead>\n",
       "    <tr style=\"text-align: right;\">\n",
       "      <th></th>\n",
       "      <th>id</th>\n",
       "      <th>keyword</th>\n",
       "      <th>location</th>\n",
       "      <th>text</th>\n",
       "    </tr>\n",
       "  </thead>\n",
       "  <tbody>\n",
       "    <tr>\n",
       "      <th>0</th>\n",
       "      <td>0</td>\n",
       "      <td>NaN</td>\n",
       "      <td>NaN</td>\n",
       "      <td>Just happened a terrible car crash</td>\n",
       "    </tr>\n",
       "    <tr>\n",
       "      <th>1</th>\n",
       "      <td>2</td>\n",
       "      <td>NaN</td>\n",
       "      <td>NaN</td>\n",
       "      <td>Heard about #earthquake is different cities, s...</td>\n",
       "    </tr>\n",
       "    <tr>\n",
       "      <th>2</th>\n",
       "      <td>3</td>\n",
       "      <td>NaN</td>\n",
       "      <td>NaN</td>\n",
       "      <td>there is a forest fire at spot pond, geese are...</td>\n",
       "    </tr>\n",
       "  </tbody>\n",
       "</table>\n",
       "</div>"
      ],
      "text/plain": [
       "   id keyword location                                               text\n",
       "0   0     NaN      NaN                 Just happened a terrible car crash\n",
       "1   2     NaN      NaN  Heard about #earthquake is different cities, s...\n",
       "2   3     NaN      NaN  there is a forest fire at spot pond, geese are..."
      ]
     },
     "execution_count": 12,
     "metadata": {},
     "output_type": "execute_result"
    }
   ],
   "source": [
    "test.head(3)"
   ]
  },
  {
   "cell_type": "code",
   "execution_count": 13,
   "metadata": {},
   "outputs": [],
   "source": [
    "tokenized_test_tweet=test['text'].apply((lambda x : tokenizer.encode(x, add_special_tokens=True)))"
   ]
  },
  {
   "cell_type": "code",
   "execution_count": 14,
   "metadata": {},
   "outputs": [],
   "source": [
    "max_len = 0\n",
    "for i in tokenized_train_tweet.values:\n",
    "    if len(i) > max_len:\n",
    "        max_len = len(i)"
   ]
  },
  {
   "cell_type": "code",
   "execution_count": 15,
   "metadata": {},
   "outputs": [
    {
     "name": "stdout",
     "output_type": "stream",
     "text": [
      "84\n"
     ]
    }
   ],
   "source": [
    "print(max_len)"
   ]
  },
  {
   "cell_type": "code",
   "execution_count": 16,
   "metadata": {},
   "outputs": [],
   "source": [
    "padded_train_tweet=np.array([i + [0]*(max_len-len(i)) for i in tokenized_train_tweet.values])"
   ]
  },
  {
   "cell_type": "code",
   "execution_count": 17,
   "metadata": {},
   "outputs": [],
   "source": [
    "padded_test_tweet=np.array([i + [0]*(max_len-len(i)) for i in tokenized_test_tweet.values])"
   ]
  },
  {
   "cell_type": "code",
   "execution_count": 18,
   "metadata": {},
   "outputs": [
    {
     "data": {
      "text/plain": [
       "(7613, 84)"
      ]
     },
     "execution_count": 18,
     "metadata": {},
     "output_type": "execute_result"
    }
   ],
   "source": [
    "padded_train_tweet.shape"
   ]
  },
  {
   "cell_type": "code",
   "execution_count": 19,
   "metadata": {},
   "outputs": [
    {
     "data": {
      "text/plain": [
       "(3263, 84)"
      ]
     },
     "execution_count": 19,
     "metadata": {},
     "output_type": "execute_result"
    }
   ],
   "source": [
    "padded_test_tweet.shape"
   ]
  },
  {
   "cell_type": "code",
   "execution_count": 20,
   "metadata": {},
   "outputs": [],
   "source": [
    "attention_mask_train=np.where(padded_train_tweet != 0,1,0)"
   ]
  },
  {
   "cell_type": "code",
   "execution_count": 21,
   "metadata": {},
   "outputs": [
    {
     "data": {
      "text/plain": [
       "(7613, 84)"
      ]
     },
     "execution_count": 21,
     "metadata": {},
     "output_type": "execute_result"
    }
   ],
   "source": [
    "attention_mask_train.shape\n"
   ]
  },
  {
   "cell_type": "code",
   "execution_count": 22,
   "metadata": {},
   "outputs": [],
   "source": [
    "attention_mask_test=np.where(padded_test_tweet != 0,1,0)"
   ]
  },
  {
   "cell_type": "code",
   "execution_count": 23,
   "metadata": {},
   "outputs": [
    {
     "data": {
      "text/plain": [
       "3263"
      ]
     },
     "execution_count": 23,
     "metadata": {},
     "output_type": "execute_result"
    }
   ],
   "source": [
    "attention_mask_test.shape[0]"
   ]
  },
  {
   "cell_type": "code",
   "execution_count": 24,
   "metadata": {},
   "outputs": [],
   "source": [
    "input_ids_train = torch.tensor(padded_train_tweet)  \n",
    "attention_mask_train = torch.tensor(attention_mask_train)\n"
   ]
  },
  {
   "cell_type": "code",
   "execution_count": 25,
   "metadata": {},
   "outputs": [],
   "source": [
    "input_ids_test=torch.tensor(padded_test_tweet)\n",
    "attention_mask_test=torch.tensor(attention_mask_test)"
   ]
  },
  {
   "cell_type": "code",
   "execution_count": 26,
   "metadata": {},
   "outputs": [],
   "source": [
    "train_data=TensorDataset(input_ids_train, attention_mask_train)\n",
    "batch_size=23\n",
    "train_sampler = SequentialSampler(train_data)\n",
    "train_dataloader = DataLoader(train_data, sampler=train_sampler, batch_size=batch_size)"
   ]
  },
  {
   "cell_type": "code",
   "execution_count": 27,
   "metadata": {},
   "outputs": [],
   "source": [
    "test_data=TensorDataset(input_ids_test, attention_mask_test)\n",
    "batch_size_test=13\n",
    "test_sampler=SequentialSampler(test_data)\n",
    "test_dataloader=DataLoader(test_data, sampler=test_sampler, batch_size=batch_size_test)"
   ]
  },
  {
   "cell_type": "code",
   "execution_count": 28,
   "metadata": {},
   "outputs": [],
   "source": [
    "features=np.zeros((331, batch_size, 768))"
   ]
  },
  {
   "cell_type": "code",
   "execution_count": 29,
   "metadata": {},
   "outputs": [],
   "source": [
    "features_test=np.zeros((251, batch_size_test, 768))"
   ]
  },
  {
   "cell_type": "code",
   "execution_count": 30,
   "metadata": {},
   "outputs": [
    {
     "name": "stdout",
     "output_type": "stream",
     "text": [
      "(331, 23, 768)\n"
     ]
    }
   ],
   "source": [
    "print(features.shape)"
   ]
  },
  {
   "cell_type": "code",
   "execution_count": 1,
   "metadata": {},
   "outputs": [
    {
     "ename": "NameError",
     "evalue": "name 'train_dataloader' is not defined",
     "output_type": "error",
     "traceback": [
      "\u001b[0;31m---------------------------------------------------------------------------\u001b[0m",
      "\u001b[0;31mNameError\u001b[0m                                 Traceback (most recent call last)",
      "\u001b[0;32m<ipython-input-1-2dce625dad9b>\u001b[0m in \u001b[0;36m<module>\u001b[0;34m\u001b[0m\n\u001b[1;32m      1\u001b[0m \u001b[0mi\u001b[0m\u001b[0;34m=\u001b[0m\u001b[0;36m0\u001b[0m\u001b[0;34m\u001b[0m\u001b[0;34m\u001b[0m\u001b[0m\n\u001b[0;32m----> 2\u001b[0;31m \u001b[0;32mfor\u001b[0m \u001b[0mbatch\u001b[0m \u001b[0;32min\u001b[0m \u001b[0mtrain_dataloader\u001b[0m\u001b[0;34m:\u001b[0m\u001b[0;34m\u001b[0m\u001b[0;34m\u001b[0m\u001b[0m\n\u001b[0m\u001b[1;32m      3\u001b[0m     \u001b[0;32mwith\u001b[0m \u001b[0mtorch\u001b[0m\u001b[0;34m.\u001b[0m\u001b[0mno_grad\u001b[0m\u001b[0;34m(\u001b[0m\u001b[0;34m)\u001b[0m\u001b[0;34m:\u001b[0m\u001b[0;34m\u001b[0m\u001b[0;34m\u001b[0m\u001b[0m\n\u001b[1;32m      4\u001b[0m         \u001b[0minput_ids\u001b[0m\u001b[0;34m=\u001b[0m\u001b[0mbatch\u001b[0m\u001b[0;34m[\u001b[0m\u001b[0;36m0\u001b[0m\u001b[0;34m]\u001b[0m\u001b[0;34m\u001b[0m\u001b[0;34m\u001b[0m\u001b[0m\n\u001b[1;32m      5\u001b[0m         \u001b[0minput_mask\u001b[0m\u001b[0;34m=\u001b[0m\u001b[0mbatch\u001b[0m\u001b[0;34m[\u001b[0m\u001b[0;36m1\u001b[0m\u001b[0;34m]\u001b[0m\u001b[0;34m\u001b[0m\u001b[0;34m\u001b[0m\u001b[0m\n",
      "\u001b[0;31mNameError\u001b[0m: name 'train_dataloader' is not defined"
     ]
    }
   ],
   "source": [
    "i=0\n",
    "for batch in train_dataloader:\n",
    "    with torch.no_grad():\n",
    "        input_ids=batch[0]\n",
    "        input_mask=batch[1]\n",
    "        last_hidden_states = model(input_ids, attention_mask=input_mask)\n",
    "        features[i, :, :]=last_hidden_states[0][:,0,:].numpy()\n",
    "        i=i+1"
   ]
  },
  {
   "cell_type": "code",
   "execution_count": 32,
   "metadata": {},
   "outputs": [],
   "source": [
    "features1=features.reshape(331*batch_size, 768)"
   ]
  },
  {
   "cell_type": "code",
   "execution_count": 33,
   "metadata": {},
   "outputs": [
    {
     "data": {
      "text/plain": [
       "(7613, 768)"
      ]
     },
     "execution_count": 33,
     "metadata": {},
     "output_type": "execute_result"
    }
   ],
   "source": [
    "features1.shape"
   ]
  },
  {
   "cell_type": "code",
   "execution_count": 34,
   "metadata": {},
   "outputs": [
    {
     "data": {
      "text/plain": [
       "array([-5.39203659e-02,  3.03787235e-02,  1.39179111e-01, -1.76852122e-01,\n",
       "       -7.24829733e-02, -2.75498092e-01,  2.07533076e-01,  6.46994054e-01,\n",
       "       -1.89658925e-01, -9.60106999e-02, -1.15032047e-02, -1.14084512e-01,\n",
       "       -5.30006588e-02,  5.75991511e-01,  1.03690274e-01,  5.88982627e-02,\n",
       "       -1.17204510e-01,  2.89246082e-01,  7.78878182e-02, -1.90412909e-01,\n",
       "       -1.76591566e-03, -3.35517049e-01, -1.64437648e-02,  7.18899146e-02,\n",
       "        1.29146010e-01, -2.23933533e-01, -7.83770978e-02, -6.89592510e-02,\n",
       "        2.46284306e-01, -1.59113090e-02, -9.64733735e-02,  3.07346638e-02,\n",
       "        4.66570482e-02, -9.82529111e-03, -6.35418221e-02,  6.92062527e-02,\n",
       "       -1.07133418e-01, -1.84001252e-02, -1.33319885e-01,  6.36131540e-02,\n",
       "       -9.52297822e-02, -1.39796570e-01,  2.56442696e-01, -1.09595932e-01,\n",
       "       -9.95302722e-02, -1.36787862e-01, -2.20107603e+00, -1.15006324e-02,\n",
       "        4.46680710e-02, -1.79410204e-01,  2.66246557e-01,  1.64560884e-01,\n",
       "        1.64374426e-01,  6.20588735e-02,  1.76357910e-01,  2.06888616e-01,\n",
       "       -3.56460512e-01,  5.31525493e-01, -1.76807731e-01, -1.39899567e-01,\n",
       "        1.84406549e-01,  6.60030320e-02, -1.53427482e-01, -2.38742586e-02,\n",
       "        1.36115970e-02, -4.42758240e-02,  1.65955082e-01,  1.16355583e-01,\n",
       "       -3.43415141e-02,  2.14529887e-01, -4.78394069e-02, -2.01039776e-01,\n",
       "        1.59679115e-01,  1.06431646e-02, -1.44323558e-01, -1.56514987e-01,\n",
       "       -1.53536245e-01,  3.75631936e-02, -4.50935736e-02,  6.54039755e-02,\n",
       "        7.22199827e-02,  2.03192726e-01,  2.28443310e-01,  2.23386914e-01,\n",
       "       -4.08614501e-02,  2.21739754e-01, -1.64470270e-01, -1.81393087e-01,\n",
       "        1.52710706e-01,  4.84976053e-01, -2.93857276e-01, -4.90866303e-02,\n",
       "        3.55441049e-02,  2.92828023e-01,  3.98660958e-01, -2.58966267e-01,\n",
       "        8.93181190e-03, -7.04047009e-02,  1.59337267e-01,  7.56818503e-02,\n",
       "        1.65076479e-01, -1.86066225e-01,  1.37963787e-01, -2.80891716e-01,\n",
       "        8.83875862e-02, -2.82016527e-02,  2.45805934e-01, -3.86121988e-01,\n",
       "        3.40021133e-01, -2.58116531e+00,  1.17270976e-01,  1.41378880e-01,\n",
       "       -7.69949332e-02, -3.88665497e-01, -4.11183536e-02,  3.63822997e-01,\n",
       "        3.41174155e-01,  5.11623919e-02, -1.93802286e-02, -1.15263343e-01,\n",
       "       -1.75103918e-01,  2.60642022e-01,  6.04678392e-02, -1.41945258e-01,\n",
       "        1.23794638e-01,  1.18315838e-01, -6.21630922e-02, -1.20090574e-01,\n",
       "        5.21996990e-02,  3.06403618e-02,  2.18314022e-01,  4.22195584e-01,\n",
       "       -7.10323527e-02, -1.02403179e-01, -3.22049484e-02,  6.85740113e-02,\n",
       "        5.18951863e-02, -2.61933625e-01, -3.36568534e-01,  1.53032526e-01,\n",
       "       -1.54011562e-01,  6.45500943e-02, -3.12490344e+00,  3.71501327e-01,\n",
       "        2.69833833e-01,  1.05391659e-01, -2.02114567e-01,  2.93378951e-03,\n",
       "        1.45738237e-02,  4.21108268e-02,  1.41878992e-01, -2.89955251e-02,\n",
       "       -2.67417401e-01,  7.80574679e-02, -1.41371995e-01, -4.80243415e-02,\n",
       "       -1.54921412e-01, -9.11768302e-02,  1.78845704e-01,  1.58094078e-01,\n",
       "        1.22342333e-01,  2.92709004e-03,  2.14974191e-02, -8.70053768e-02,\n",
       "       -3.35047603e-01,  5.25658950e-02,  5.13170779e-01,  2.42195994e-01,\n",
       "        5.21316715e-02, -5.95734343e-02, -1.30620047e-01, -2.24549649e-03,\n",
       "        1.58868194e-01,  5.34523427e-02, -8.12300965e-02, -4.59926669e-03,\n",
       "        2.55698532e-01,  2.99254090e-01, -5.72075434e-02, -4.86884899e-02,\n",
       "       -8.14453363e-02,  2.59413630e-01,  7.11359754e-02,  2.48810038e-01,\n",
       "        2.86229491e-01,  7.19977394e-02,  3.14518094e-01, -4.82286550e-02,\n",
       "       -8.29306915e-02,  2.40688115e-01,  8.92011449e-03, -1.00923203e-01,\n",
       "        8.37581530e-02, -1.61817834e-01,  2.30573073e-01, -5.79077452e-02,\n",
       "        1.29344642e-01, -4.28143561e-01,  3.38147134e-01,  1.08194664e-01,\n",
       "       -1.44915715e-01,  1.73441574e-01, -6.76980391e-02, -3.69517021e-02,\n",
       "       -1.74173698e-01,  3.58116770e+00, -1.18408417e-02, -1.18633002e-01,\n",
       "        1.23351209e-01, -3.68317924e-02, -1.70616373e-01,  6.23927973e-02,\n",
       "        1.16211362e-01, -9.46824551e-02, -7.37440288e-02,  8.21779445e-02,\n",
       "        2.30007455e-01,  1.17646821e-01,  1.44950775e-02, -4.74925078e-02,\n",
       "       -3.90087278e-03,  2.11444169e-01, -5.11955284e-02, -1.10188209e-01,\n",
       "        9.95960012e-02,  6.64419606e-02,  1.62729055e-01,  2.11843029e-02,\n",
       "        4.65179747e-03, -1.18076682e+00, -9.35179815e-02, -1.39600649e-01,\n",
       "       -1.76261738e-01,  3.06960404e-01, -1.65446594e-01, -8.54325816e-02,\n",
       "        1.29676729e-01, -3.30159180e-02,  2.92684529e-02,  1.57558024e-01,\n",
       "        1.50172506e-03,  1.44422486e-01,  2.55113363e-01,  3.89429182e-01,\n",
       "       -2.84740776e-01,  2.15270430e-01,  2.12482885e-01,  1.45327672e-01,\n",
       "        4.43855263e-02, -9.74556208e-02,  3.32074851e-01, -1.71166673e-01,\n",
       "        2.74512898e-02,  7.54522011e-02,  2.62241811e-02, -2.04619333e-01,\n",
       "        4.95720990e-02, -4.99543510e-02, -2.18672320e-01,  1.20495640e-01,\n",
       "       -1.08188175e-01, -3.79241973e-01,  1.38518348e-01,  1.28918692e-01,\n",
       "       -2.01691702e-01,  1.77361164e-02,  1.50324300e-01, -3.57519031e-01,\n",
       "        1.31009594e-01, -3.30070220e-02, -7.92827755e-02,  1.97369993e-01,\n",
       "       -2.75048852e-01, -3.99324012e+00,  2.28052944e-01, -2.05483437e-01,\n",
       "        1.48872599e-01,  2.74252653e-01,  6.80726245e-02,  1.36187866e-01,\n",
       "        8.94370899e-02,  2.63130605e-01, -4.15905416e-01,  2.12790817e-01,\n",
       "        1.98414296e-01, -1.08303234e-01,  1.82696089e-01, -1.65869668e-01,\n",
       "        1.54372975e-01,  9.97569263e-02, -5.04502468e-03, -3.37632000e-01,\n",
       "       -6.23438619e-02, -8.47826973e-02,  3.16958219e-01, -1.76112100e-01,\n",
       "        3.58614773e-01, -6.56412467e-02, -2.95081466e-01,  8.90167281e-02,\n",
       "       -5.65936454e-02,  1.47429407e-01, -5.57464585e-02, -1.04481719e-01,\n",
       "       -4.56278026e-02,  6.89373389e-02, -4.74623702e-02, -1.71075478e-01,\n",
       "       -2.20427823e+00, -1.70287807e-02,  6.48649186e-02, -1.31211430e-01,\n",
       "       -4.23715115e-02, -3.67260017e-02,  2.96371967e-01, -4.40626778e-02,\n",
       "       -2.14704901e-01, -4.19727266e-02,  7.74161220e-02, -1.09683378e-02,\n",
       "       -1.63971379e-01,  2.82540411e-01,  2.36222029e-01, -1.03639953e-01,\n",
       "        1.06724970e-01,  2.51215957e-02,  2.06119731e-01,  1.61045611e-01,\n",
       "       -4.33533750e-02, -2.10332900e-01, -1.47190288e-01, -1.30454917e-02,\n",
       "        1.79743487e-02,  9.48652402e-02, -2.69601792e-01, -7.25257099e-02,\n",
       "       -2.89568186e-01,  2.21257702e-01, -1.25071481e-02, -2.15853021e-01,\n",
       "        1.15367562e-01,  9.13591031e-03, -1.88390583e-01, -2.83082753e-01,\n",
       "        2.05925614e-01, -1.24267690e-01,  2.10690558e-01, -1.60205625e-02,\n",
       "        7.49920607e-02,  3.67655993e-01,  6.52290806e-02,  1.68486744e-01,\n",
       "        3.77571404e-01,  3.92212812e-03,  6.37619048e-02, -1.79014131e-02,\n",
       "       -8.97659957e-02,  3.91539112e-02, -8.80797952e-02,  2.57520556e-01,\n",
       "        1.32998025e+00, -1.74671680e-01, -7.78667852e-02, -1.67636201e-01,\n",
       "        4.39696908e-01,  9.70671177e-02,  2.71316737e-01,  8.97572562e-02,\n",
       "        3.68660480e-01, -6.81627020e-02,  1.83021650e-01, -7.01819658e-02,\n",
       "       -8.19281712e-02, -1.64289862e-01,  1.23223782e-01, -2.79977381e-01,\n",
       "       -9.15105641e-02,  5.24982736e-02, -1.31471008e-01, -3.70025821e-03,\n",
       "       -1.20873943e-01, -6.12322807e-01, -3.26107144e-01,  1.06973618e-01,\n",
       "       -5.11511080e-02, -2.99725588e-02,  7.10924640e-02,  8.74858256e-03,\n",
       "       -2.62766033e-01, -3.22141141e-01,  4.72814552e-02,  3.03189844e-01,\n",
       "       -6.50469214e-02, -4.94194068e-02, -2.60438591e-01, -1.09705161e-02,\n",
       "       -2.41716653e-01,  2.61438116e-02,  3.63931172e-02,  5.88501468e-02,\n",
       "        3.02990191e-02,  1.89536422e-01,  1.13771558e-01,  1.50809422e-01,\n",
       "        2.23314445e-02, -5.61615944e-01,  1.79967329e-01, -1.33379057e-01,\n",
       "       -1.14533968e-01, -7.39216283e-02,  1.49519891e-02,  2.43959680e-01,\n",
       "       -1.83670834e-01, -1.64899722e-01, -1.51246205e-01,  1.37926042e-01,\n",
       "       -7.20710531e-02,  2.99809307e-01,  4.76645194e-02,  1.80057958e-01,\n",
       "       -9.39752907e-02,  4.52541932e-03,  9.68291938e-01, -1.36954367e-01,\n",
       "        1.55362144e-01,  2.54377902e-01, -6.48481026e-02,  2.20867902e-01,\n",
       "        1.26120746e-01,  5.31603098e-02, -3.09424549e-01,  9.25740302e-02,\n",
       "        5.55646569e-02, -4.01795805e-02, -4.50702384e-02, -2.41853654e-01,\n",
       "       -1.59724459e-01, -1.05807334e-01,  2.46410146e-01, -7.25895539e-02,\n",
       "       -2.88191326e-02, -3.99369687e-01, -1.02885075e-01, -9.91580784e-02,\n",
       "       -1.09519526e-01, -2.85179615e-01,  1.28380209e-01,  1.95532277e-01,\n",
       "        1.75818726e-01,  2.80224591e-01, -1.59056112e-01,  5.07620752e-01,\n",
       "       -9.06665158e-03,  4.05090541e-01, -1.25260577e-01,  1.85603082e-01,\n",
       "       -9.14305300e-02,  2.04872265e-01, -2.02310726e-01, -1.85650304e-01,\n",
       "       -8.09918866e-02, -2.29820505e-01, -4.58561368e-02,  1.43754348e-01,\n",
       "        1.48493364e-01,  1.03140920e-01,  4.06670868e-02,  1.09387681e-01,\n",
       "        2.51807958e-01, -7.30072893e-03, -1.43232942e+00,  2.50915140e-01,\n",
       "        3.16239834e-01,  1.06099382e-01,  2.01695785e-01, -1.52824938e-01,\n",
       "       -1.72942236e-01,  4.93483424e-01,  1.60491660e-01,  2.10295796e-01,\n",
       "       -3.65676768e-02,  8.40625390e-02, -2.16563597e-01,  9.67577100e-02,\n",
       "       -2.28678696e-02,  7.63253570e-02,  1.85041174e-01, -1.61167219e-01,\n",
       "        4.12522629e-02,  7.26901591e-02,  1.28932849e-01,  1.36551499e-01,\n",
       "        7.63450749e-03, -3.51497382e-02, -1.81087509e-01, -7.80301318e-02,\n",
       "        3.50683928e-02,  2.96202004e-01, -1.10701062e-02,  1.31815389e-01,\n",
       "       -6.22390471e-02, -2.70707905e-01, -5.92602432e-01, -3.00394714e-01,\n",
       "        1.84903264e-01, -4.65346649e-02,  8.32894072e-02,  9.79882777e-02,\n",
       "        9.88883898e-03,  5.96610010e-02, -4.46320534e-01,  2.02825457e-01,\n",
       "        8.05851668e-02, -1.79853216e-01,  4.24863338e-01,  1.42233238e-01,\n",
       "        3.27809751e-02,  1.84022054e-01, -1.48491263e-01, -1.84446663e-01,\n",
       "        1.12065986e-01, -3.08898259e-02, -7.80571923e-02, -4.65708598e-02,\n",
       "        1.08555995e-01, -3.44978995e-03, -1.41466960e-01, -7.67269358e-02,\n",
       "       -2.86716461e-01,  7.37801567e-03,  2.50013560e-01, -3.17308396e-01,\n",
       "       -2.04159766e-01,  2.05024511e-01, -2.39481136e-01, -3.44652802e-01,\n",
       "       -1.00794069e-01, -2.69157678e-01, -9.62588340e-02,  1.04311630e-01,\n",
       "        2.95805007e-01,  4.31311652e-02, -1.34591982e-01,  1.50132477e-01,\n",
       "       -6.14293851e-02,  1.03600055e-01, -5.23815230e-02,  2.11818963e-01,\n",
       "        2.57684797e-01, -2.80424178e-01,  8.10938776e-02, -1.53891444e-01,\n",
       "       -2.66760588e-01,  2.23381445e-01,  1.54566830e-02,  5.64566404e-02,\n",
       "        1.48379784e-02,  2.62620263e-02, -1.68163657e-01,  1.38617769e-01,\n",
       "       -3.12027097e-01, -2.22393841e-01, -5.81252426e-02, -7.09976852e-02,\n",
       "        5.29211611e-02,  2.17097223e-01,  1.03767589e-01, -1.18797913e-01,\n",
       "       -1.60528079e-01, -2.72202399e-02, -1.31401137e-01,  2.91034013e-01,\n",
       "        4.50335056e-01,  1.01226196e-01,  9.69264582e-02,  8.12759437e-03,\n",
       "        2.13686943e-01,  1.13027714e-01, -1.45251080e-01,  1.57942191e-01,\n",
       "       -2.10819528e-01,  1.21050566e-01,  1.88785672e-01,  9.31079611e-02,\n",
       "        3.55252810e-02, -2.02558145e-01,  1.25967845e-01, -2.13501066e-01,\n",
       "        2.11157680e+00,  4.37319577e-01,  3.82169113e-02, -1.32130742e-01,\n",
       "        1.35926604e-01, -1.03044488e-01, -9.75176245e-02,  3.43567580e-02,\n",
       "       -4.13922556e-02,  4.12851900e-01, -4.77118529e-02,  2.19095066e-01,\n",
       "       -4.59659919e-02,  2.37095296e-01,  4.20814455e-01,  1.18479490e-01,\n",
       "        1.64541960e-01, -2.26310447e-01, -4.97932374e-01, -8.57593715e-02,\n",
       "       -2.43200526e-01,  2.09943488e-01,  3.28560233e-01, -1.95754558e-01,\n",
       "       -1.19652763e-01,  1.55399323e-01,  9.28710476e-02, -4.57461216e-02,\n",
       "       -2.24612162e-01,  1.91485628e-01,  5.28598726e-02, -7.64257610e-02,\n",
       "       -1.27172783e-01,  4.07384664e-01, -2.26650268e-01,  1.78151280e-01,\n",
       "        6.81789592e-02, -3.73408645e-01, -1.33763626e-01,  3.84945422e-02,\n",
       "       -2.81890798e-02, -3.65655273e-01,  2.09666342e-01, -2.79576052e-02,\n",
       "       -7.67670274e-02,  3.41175407e-01,  1.09533751e-02, -1.61481634e-01,\n",
       "        3.12222958e-01,  2.38951951e-01, -2.71151274e-01, -5.02612367e-02,\n",
       "       -2.06221566e-01,  1.77503124e-01, -5.96829616e-02, -3.44333529e-01,\n",
       "       -6.41000941e-02, -1.53763637e-01,  1.37480143e-02,  1.32278055e-01,\n",
       "        1.82313323e-01,  1.59918815e-01,  4.35029030e-01,  1.20253064e-01,\n",
       "        2.32940644e-01,  1.48734480e-01, -1.96304113e-01,  1.86592042e-01,\n",
       "       -9.18122567e-03, -3.79652053e-01, -8.05795118e-02,  2.45781362e-01,\n",
       "        3.78825337e-01, -1.70782611e-01,  4.24801648e-01,  1.30425496e-02,\n",
       "        3.42297584e-01, -5.06318659e-02, -8.60107690e-02, -3.00745726e+00,\n",
       "       -1.60895158e-02,  1.90429054e-02,  5.75013421e-02, -8.58387053e-02,\n",
       "        3.19533348e-01,  2.99251765e-01, -1.12912491e-01,  1.85755208e-01,\n",
       "       -2.82671094e-01,  2.55456746e-01,  3.22842419e-01,  2.82836795e-01,\n",
       "        8.04181993e-02,  1.62768885e-01,  6.20811135e-02,  1.22319698e-01,\n",
       "       -2.76949108e-01, -2.68618584e-01,  1.67850822e-01, -3.54203880e-02,\n",
       "        5.69907799e-02,  4.27350774e-03, -2.74625659e-01, -9.03033689e-02,\n",
       "        1.70827359e-01, -1.40573651e-01, -1.13333970e-01, -1.73865974e-01,\n",
       "        7.03738779e-02, -1.24961831e-01,  3.03481370e-01, -2.91838527e-01,\n",
       "        5.17924912e-02,  7.27551654e-02, -8.37272853e-02, -2.23670736e-01,\n",
       "       -1.57105282e-01,  2.50218779e-01,  2.77983360e-02, -2.42068451e-02,\n",
       "        4.73802060e-01, -1.74322315e-02, -1.30144469e-02, -6.78334087e-02,\n",
       "        5.13065495e-02,  2.15690807e-01, -1.15702696e-01, -5.95851541e-02,\n",
       "       -1.42538160e-01, -1.08670785e-04,  8.71985182e-02,  1.14699289e-01,\n",
       "        5.72009236e-02,  2.26665318e-01,  1.87510867e-02, -3.39047331e-03,\n",
       "       -4.29224521e-02,  1.11260191e-01, -1.91455737e-01, -1.14079028e-01,\n",
       "       -3.37429754e-02,  1.12951964e-01, -7.17292428e-02,  9.78822708e-02,\n",
       "       -1.40315562e-01, -6.66380525e-02,  5.70522100e-02, -8.30947161e-02,\n",
       "        1.97214410e-02, -1.43477947e-01, -2.29325774e-03,  1.33763328e-01,\n",
       "        1.51196867e-01,  1.41681269e-01, -9.77338850e-02,  4.04049605e-01,\n",
       "        3.29411507e-01, -8.79305229e-02,  1.77094012e-01, -9.23513994e-02,\n",
       "       -5.21607399e-02,  1.18955545e-01, -5.20611294e-02, -7.42133847e-03,\n",
       "       -8.20710850e+00, -1.99557453e-01, -9.08668488e-02, -6.92493021e-02,\n",
       "        1.46645203e-01, -2.01601967e-01,  5.27843647e-02, -8.85551348e-02,\n",
       "        7.85187781e-02, -1.96284920e-01,  1.87695205e-01,  8.44894722e-03,\n",
       "       -1.68683723e-01, -6.42430857e-02,  2.20364064e-01,  2.15417475e-01])"
      ]
     },
     "execution_count": 34,
     "metadata": {},
     "output_type": "execute_result"
    }
   ],
   "source": [
    "features[1, 0, :]"
   ]
  },
  {
   "cell_type": "code",
   "execution_count": 40,
   "metadata": {},
   "outputs": [
    {
     "name": "stdout",
     "output_type": "stream",
     "text": [
      "0\n",
      "1\n",
      "2\n",
      "3\n",
      "4\n",
      "5\n",
      "6\n",
      "7\n",
      "8\n",
      "9\n",
      "10\n",
      "11\n",
      "12\n",
      "13\n",
      "14\n",
      "15\n",
      "16\n",
      "17\n",
      "18\n",
      "19\n",
      "20\n",
      "21\n",
      "22\n",
      "23\n",
      "24\n",
      "25\n",
      "26\n",
      "27\n",
      "28\n",
      "29\n",
      "30\n",
      "31\n",
      "32\n",
      "33\n",
      "34\n",
      "35\n",
      "36\n",
      "37\n",
      "38\n",
      "39\n",
      "40\n",
      "41\n",
      "42\n",
      "43\n",
      "44\n",
      "45\n",
      "46\n",
      "47\n",
      "48\n",
      "49\n",
      "50\n",
      "51\n",
      "52\n",
      "53\n",
      "54\n",
      "55\n",
      "56\n",
      "57\n",
      "58\n",
      "59\n",
      "60\n",
      "61\n",
      "62\n",
      "63\n",
      "64\n",
      "65\n",
      "66\n",
      "67\n",
      "68\n",
      "69\n",
      "70\n",
      "71\n",
      "72\n",
      "73\n",
      "74\n",
      "75\n",
      "76\n",
      "77\n",
      "78\n",
      "79\n",
      "80\n",
      "81\n",
      "82\n",
      "83\n",
      "84\n",
      "85\n",
      "86\n",
      "87\n",
      "88\n",
      "89\n",
      "90\n",
      "91\n",
      "92\n",
      "93\n",
      "94\n",
      "95\n",
      "96\n",
      "97\n",
      "98\n",
      "99\n",
      "100\n",
      "101\n",
      "102\n",
      "103\n",
      "104\n",
      "105\n",
      "106\n",
      "107\n",
      "108\n",
      "109\n",
      "110\n",
      "111\n",
      "112\n",
      "113\n",
      "114\n",
      "115\n",
      "116\n",
      "117\n",
      "118\n",
      "119\n",
      "120\n",
      "121\n",
      "122\n",
      "123\n",
      "124\n",
      "125\n",
      "126\n",
      "127\n",
      "128\n",
      "129\n",
      "130\n",
      "131\n",
      "132\n",
      "133\n",
      "134\n",
      "135\n",
      "136\n",
      "137\n",
      "138\n",
      "139\n",
      "140\n",
      "141\n",
      "142\n",
      "143\n",
      "144\n",
      "145\n",
      "146\n",
      "147\n",
      "148\n",
      "149\n",
      "150\n",
      "151\n",
      "152\n",
      "153\n",
      "154\n",
      "155\n",
      "156\n",
      "157\n",
      "158\n",
      "159\n",
      "160\n",
      "161\n",
      "162\n",
      "163\n",
      "164\n",
      "165\n",
      "166\n",
      "167\n",
      "168\n",
      "169\n",
      "170\n",
      "171\n",
      "172\n",
      "173\n",
      "174\n",
      "175\n",
      "176\n",
      "177\n",
      "178\n",
      "179\n",
      "180\n",
      "181\n",
      "182\n",
      "183\n",
      "184\n",
      "185\n",
      "186\n",
      "187\n",
      "188\n",
      "189\n",
      "190\n",
      "191\n",
      "192\n",
      "193\n",
      "194\n",
      "195\n",
      "196\n",
      "197\n",
      "198\n",
      "199\n",
      "200\n",
      "201\n",
      "202\n",
      "203\n",
      "204\n",
      "205\n",
      "206\n",
      "207\n",
      "208\n",
      "209\n",
      "210\n",
      "211\n",
      "212\n",
      "213\n",
      "214\n",
      "215\n",
      "216\n",
      "217\n",
      "218\n",
      "219\n",
      "220\n",
      "221\n",
      "222\n",
      "223\n",
      "224\n",
      "225\n",
      "226\n",
      "227\n",
      "228\n",
      "229\n",
      "230\n",
      "231\n",
      "232\n",
      "233\n",
      "234\n",
      "235\n",
      "236\n",
      "237\n",
      "238\n",
      "239\n",
      "240\n",
      "241\n",
      "242\n",
      "243\n",
      "244\n",
      "245\n",
      "246\n",
      "247\n",
      "248\n",
      "249\n",
      "250\n"
     ]
    }
   ],
   "source": [
    "i=0\n",
    "for batch in test_dataloader:\n",
    "    with torch.no_grad():\n",
    "        input_ids=batch[0]\n",
    "        input_mask=batch[1]\n",
    "        last_hidden_states = model(input_ids, attention_mask=input_mask)\n",
    "        features_test[i, :, :]=last_hidden_states[0][:,0,:].numpy()\n",
    "        i=i+1"
   ]
  },
  {
   "cell_type": "code",
   "execution_count": 41,
   "metadata": {},
   "outputs": [],
   "source": [
    "feature_test=features_test.reshape(251*batch_size_test, 768)"
   ]
  },
  {
   "cell_type": "code",
   "execution_count": 43,
   "metadata": {},
   "outputs": [],
   "source": [
    "np.save('fetures_distill.npy', features1)"
   ]
  },
  {
   "cell_type": "code",
   "execution_count": 44,
   "metadata": {},
   "outputs": [],
   "source": [
    "np.save('features_test.npy', feature_test)"
   ]
  },
  {
   "cell_type": "code",
   "execution_count": null,
   "metadata": {},
   "outputs": [],
   "source": []
  }
 ],
 "metadata": {
  "kernelspec": {
   "display_name": "Python 3",
   "language": "python",
   "name": "python3"
  },
  "language_info": {
   "codemirror_mode": {
    "name": "ipython",
    "version": 3
   },
   "file_extension": ".py",
   "mimetype": "text/x-python",
   "name": "python",
   "nbconvert_exporter": "python",
   "pygments_lexer": "ipython3",
   "version": "3.6.8"
  }
 },
 "nbformat": 4,
 "nbformat_minor": 2
}
